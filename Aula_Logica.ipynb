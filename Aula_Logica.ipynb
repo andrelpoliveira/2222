{
  "nbformat": 4,
  "nbformat_minor": 0,
  "metadata": {
    "colab": {
      "name": "Aula Logica.ipynb",
      "provenance": [],
      "collapsed_sections": [],
      "authorship_tag": "ABX9TyNQ/i1woh9yW5Y27pYhQckQ",
      "include_colab_link": true
    },
    "kernelspec": {
      "name": "python3",
      "display_name": "Python 3"
    },
    "language_info": {
      "name": "python"
    }
  },
  "cells": [
    {
      "cell_type": "markdown",
      "metadata": {
        "id": "view-in-github",
        "colab_type": "text"
      },
      "source": [
        "<a href=\"https://colab.research.google.com/github/andrelpoliveira/2222/blob/master/Aula_Logica.ipynb\" target=\"_parent\"><img src=\"https://colab.research.google.com/assets/colab-badge.svg\" alt=\"Open In Colab\"/></a>"
      ]
    },
    {
      "cell_type": "markdown",
      "metadata": {
        "id": "R3iyNpT7if8O"
      },
      "source": [
        "Strings\n",
        "\n"
      ]
    },
    {
      "cell_type": "code",
      "metadata": {
        "colab": {
          "base_uri": "https://localhost:8080/"
        },
        "id": "3lPvmFTfivXW",
        "outputId": "4baa39a4-fb3f-4f21-f025-6f16c695a37d"
      },
      "source": [
        "s1 = 'Lógica de Programação'\n",
        "s1 = s1 + ' e Algoritmos'\n",
        "\n",
        "print(s1)"
      ],
      "execution_count": 18,
      "outputs": [
        {
          "output_type": "stream",
          "text": [
            "Lógica de Programação e Algoritmos\n"
          ],
          "name": "stdout"
        }
      ]
    },
    {
      "cell_type": "code",
      "metadata": {
        "colab": {
          "base_uri": "https://localhost:8080/"
        },
        "id": "0nsQjBQcjFa1",
        "outputId": "0198e5bb-9960-43d1-c58a-45a62d9e20db"
      },
      "source": [
        "s1 = 'A' + '-' * 10 + 'B'\n",
        "s2 = 'A' *2 + 'B' *2\n",
        "print(s1)\n",
        "print(s2 )"
      ],
      "execution_count": 25,
      "outputs": [
        {
          "output_type": "stream",
          "text": [
            "A----------B\n",
            "AABB\n"
          ],
          "name": "stdout"
        }
      ]
    },
    {
      "cell_type": "code",
      "metadata": {
        "colab": {
          "base_uri": "https://localhost:8080/"
        },
        "id": "2S9hmOGhjVV2",
        "outputId": "82e6fb5b-6a4f-42b9-80b5-d5a1f809b3c2"
      },
      "source": [
        "nota = 8.5\n",
        "s1 = 'Você tirou %f na disciplina de Algoritmos' %nota\n",
        "print(s1)"
      ],
      "execution_count": 20,
      "outputs": [
        {
          "output_type": "stream",
          "text": [
            "Você tirou 8.500000 na disciplina de Algoritmos\n"
          ],
          "name": "stdout"
        }
      ]
    },
    {
      "cell_type": "code",
      "metadata": {
        "colab": {
          "base_uri": "https://localhost:8080/"
        },
        "id": "k_aA7kg1joWe",
        "outputId": "e571da3d-5aa5-40fd-b244-c9a169ea178d"
      },
      "source": [
        "nota = 8.5\n",
        "s1 = 'Você tirou %.2f na disciplina de Algoritmos' %nota\n",
        "print(s1)"
      ],
      "execution_count": 21,
      "outputs": [
        {
          "output_type": "stream",
          "text": [
            "Você tirou 8.50 na disciplina de Algoritmos\n"
          ],
          "name": "stdout"
        }
      ]
    },
    {
      "cell_type": "code",
      "metadata": {
        "colab": {
          "base_uri": "https://localhost:8080/"
        },
        "id": "J7VYyb2Nj0aW",
        "outputId": "0c17a6a3-7a18-4bb6-b296-e09325f92347"
      },
      "source": [
        "nota = 8.5\n",
        "disciplina = 'Algoritmos'\n",
        "s1 = 'Você tirou %.2f na disciplina de %s' % (nota, disciplina)\n",
        "print(s1)"
      ],
      "execution_count": 23,
      "outputs": [
        {
          "output_type": "stream",
          "text": [
            "Você tirou 8.50 na disciplina de Algoritmos\n"
          ],
          "name": "stdout"
        }
      ]
    },
    {
      "cell_type": "code",
      "metadata": {
        "colab": {
          "base_uri": "https://localhost:8080/"
        },
        "id": "TlAsAiE-kT7d",
        "outputId": "ea409d20-3478-49e2-d3cd-580e0f7635d3"
      },
      "source": [
        "nota = 8.5\n",
        "disciplina = 'Algoritmos'\n",
        "s1 = 'Você tirou {} na disciplina de {}'.format (nota, disciplina)\n",
        "print(s1)"
      ],
      "execution_count": 24,
      "outputs": [
        {
          "output_type": "stream",
          "text": [
            "Você tirou 8.5 na disciplina de Algoritmos\n"
          ],
          "name": "stdout"
        }
      ]
    },
    {
      "cell_type": "markdown",
      "metadata": {
        "id": "B3116mEhiEzh"
      },
      "source": [
        "Inteiros e condicionais"
      ]
    },
    {
      "cell_type": "code",
      "metadata": {
        "id": "azxWx841eo7V"
      },
      "source": [
        "nota1 = 6\n",
        "nota2 = 5\n",
        "nota3 = 6\n",
        "nota4 = 9\n",
        "\n",
        "media = ((nota1 + nota2 + nota3 + nota4)/4)\n",
        "\n",
        "if media >= 7:\n",
        "  print(media)\n",
        "  print('Aprovado')\n",
        "elif media >= 6 or media < 7:\n",
        "  print(media)\n",
        "  print('Recuperação')\n",
        "else:\n",
        "  print(media)\n",
        "  print('Reprovado')"
      ],
      "execution_count": null,
      "outputs": []
    },
    {
      "cell_type": "code",
      "metadata": {
        "id": "mzXzACitdHZo"
      },
      "source": [
        "print('2' + '3')\n",
        "print('Curso' + ' Ciência' + ' da' + ' Computação')"
      ],
      "execution_count": null,
      "outputs": []
    }
  ]
}